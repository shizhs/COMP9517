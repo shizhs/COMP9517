{
 "cells": [
  {
   "cell_type": "code",
   "execution_count": 5,
   "metadata": {},
   "outputs": [],
   "source": [
    "import math\n",
    "import cv2\n",
    "import numpy as np\n",
    "import glob\n",
    "import matplotlib.pyplot as plt\n",
    "from matplotlib.patches import Rectangle\n",
    "import os\n",
    "from deep_sort import tracker, nn_matching, detection"
   ]
  },
  {
   "cell_type": "code",
   "execution_count": 10,
   "metadata": {},
   "outputs": [],
   "source": [
    "metric=nn_matching.NearestNeighborDistanceMetric(\"euclidean\", 0.9)\n",
    "max_age=2\n",
    "n_init=2\n",
    "tracker=tracker.Tracker(metric, max_age, n_init)"
   ]
  },
  {
   "cell_type": "code",
   "execution_count": null,
   "metadata": {},
   "outputs": [],
   "source": [
    "def draw_bounding_box(self, new_img, new_next_cells):\n",
    "    for i in range(len(new_next_cells)):\n",
    "        label, cells, y1, y2, x1, x2=new_next_cells[i]\n",
    "        plt.title(\"Number of Cells: \"+str(len(new_next_cells))+\"Max: \"+str(self.max_label))\n",
    "        plt.imshow(new_img, interpolation=\"nearest\")\n",
    "        rect = Rectangle((x1, y1), (x2-x1), (y2-y1), fill=False, color='red')\n",
    "        plt.axes().add_patch(rect) \n",
    "        plt.text(x1+1,y1+1, str(label))\n",
    "    plt.show()  \n",
    "    self.time_series+=1\n",
    "    return"
   ]
  },
  {
   "cell_type": "code",
   "execution_count": null,
   "metadata": {},
   "outputs": [],
   "source": [
    "def tracking(self, image_path, info_path):\n",
    "    image_names=sorted(os.listdir(image_path))\n",
    "    curr_cells=None\n",
    "    for path in image_names:\n",
    "        if path.endswith(\".npy\"):\n",
    "            continue\n",
    "        img=cv2.imread(image_path + path, 0)\n",
    "        dim = (500, 500)\n",
    "        img = cv2.resize(img, dim)\n",
    "        self.H, self.W=img.shape\n",
    "        info=np.load(info_path+path.split('.')[0]+'.npy', allow_pickle=True)\n",
    "        if isinstance(curr_cells, type(None)):\n",
    "            curr_cells=info\n",
    "            detections=[]\n",
    "            for cell in curr_cells:\n",
    "                label, cropped, y1, y2, x1, x2 = cell[0], cell[1], cell[2], cell[3], cell[4], cell[5]\n",
    "                detections.append(Detection([x1, y1, x2-x1, y2-y1], 1, [np.sum(cropped)/np.prod(cropped.shape)]))\n",
    "        \n",
    "                "
   ]
  }
 ],
 "metadata": {
  "kernelspec": {
   "display_name": "Python 3",
   "language": "python",
   "name": "python3"
  },
  "language_info": {
   "codemirror_mode": {
    "name": "ipython",
    "version": 3
   },
   "file_extension": ".py",
   "mimetype": "text/x-python",
   "name": "python",
   "nbconvert_exporter": "python",
   "pygments_lexer": "ipython3",
   "version": "3.7.6"
  }
 },
 "nbformat": 4,
 "nbformat_minor": 4
}
