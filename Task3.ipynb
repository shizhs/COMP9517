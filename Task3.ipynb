{
 "cells": [
  {
   "cell_type": "code",
   "execution_count": 1,
   "metadata": {},
   "outputs": [],
   "source": [
    "from tkinter import *\n",
    "from tkinter import filedialog\n",
    "from PIL import Image, ImageTk\n",
    "import math\n",
    "import cv2\n",
    "import numpy as np\n",
    "import glob\n",
    "import matplotlib.pyplot as plt\n",
    "from scipy import ndimage as ndi\n",
    "from skimage.segmentation import watershed\n",
    "from skimage.feature import peak_local_max\n",
    "from matplotlib.patches import Rectangle\n",
    "import os\n",
    "\n",
    "from mpl_toolkits import mplot3d"
   ]
  },
  {
   "cell_type": "code",
   "execution_count": null,
   "metadata": {},
   "outputs": [],
   "source": []
  },
  {
   "cell_type": "code",
   "execution_count": null,
   "metadata": {},
   "outputs": [],
   "source": []
  },
  {
   "cell_type": "code",
   "execution_count": 2,
   "metadata": {},
   "outputs": [],
   "source": [
    "path=\"./COMP9517 20T2 Group Project Image Sequences/PhC-C2DL-PSC/Sequence 1/\"\n",
    "class Task3:\n",
    "    def __init__(self, path):\n",
    "        self.root=Tk()\n",
    "        self.frame = Frame(self.root, bd=2, relief=SUNKEN)\n",
    "        self.frame.grid_rowconfigure(0, weight=1)\n",
    "        self.frame.grid_columnconfigure(0, weight=1)\n",
    "        self.label = Label(self.root, text=\"Click On The Screen\")\n",
    "        self.img_paths=sorted(os.listdir(path))\n",
    "        self.count=0\n",
    "        self.path=path\n",
    "        xscroll = Scrollbar(self.frame, orient=HORIZONTAL)\n",
    "        xscroll.grid(row=1, column=0, sticky=E+W)\n",
    "        yscroll = Scrollbar(self.frame)\n",
    "        yscroll.grid(row=0, column=1, sticky=N+S)\n",
    "        self.canvas = Canvas(self.frame, bd=0, xscrollcommand=xscroll.set, yscrollcommand=yscroll.set)\n",
    "        self.image_on_canvas=None\n",
    "        \n",
    "#     def detect_cell(self, x, y):\n",
    "#         return 0\n",
    "    \n",
    "#     def speed_cell(self, label):\n",
    "#         if self.count==0:\n",
    "#             return 0\n",
    "#         curr_x, curr_y =trajectory[label][self.count]\n",
    "#         prev_x, prev_y =trajectory[label][self.count-1]\n",
    "#         return math.sqrt((curr_x-prev_x)**2+(curr_y-prev_y)**2)\n",
    "    \n",
    "#     def total_distance(self, label):\n",
    "#         if self.count==0:\n",
    "#             return 0\n",
    "#         total=0\n",
    "#         for i in range(1, self.count):\n",
    "#             curr_x, curr_y=trajectory[label][i]\n",
    "#             prev_x, prev_y=trajectory[label][i-1]\n",
    "#             if prev_x==-1 and prev_y==-1:\n",
    "#                 continue\n",
    "#             total+=math.sqrt((curr_x-prev_x)**2+(curr_y-prev_y)**2)\n",
    "            \n",
    "#         return total\n",
    "    \n",
    "#     def net_distance(self, label):\n",
    "#         for i in range(self.count):\n",
    "#             start_x, start_y=trajectory[label][i]\n",
    "#             if start_x!=-1:\n",
    "#                 break\n",
    "#         curr_x, curr_y=trajectory[label][self.count]\n",
    "#         return math.sqrt((curr_x-start_x)**2+(curr_y-start_y)**2)\n",
    "    \n",
    "#     def confinement_ratio(self, total, net):\n",
    "#         return total/net\n",
    "\n",
    "    def printcoords(self, event):\n",
    "        print (event.x,event.y)\n",
    "        self.label['text'] = \"x: \"+str(event.x)+\"y: \"+str(event.y)\n",
    "#         label=detect_cell(event.x, event.y)\n",
    "#         speed=speed_cell(label)\n",
    "#         total=total_distance(label)\n",
    "#         net=net_distance(label)\n",
    "#         confine=confinement_ratio(total, net)\n",
    "        \n",
    "    def check(self):\n",
    "        img = ImageTk.PhotoImage(Image.open(self.path+self.img_paths[0]))\n",
    "        Image.open(self.path+self.img_paths[0])\n",
    "        self.canvas.grid(row=0, column=0, sticky=N+S+E+W)\n",
    "        self.image_on_canvas=self.canvas.create_image(0,0,image=img,anchor=\"nw\")\n",
    "        self.canvas.config(scrollregion=self.canvas.bbox(ALL))\n",
    "        self.canvas.bind(\"<Button 1>\",self.printcoords)\n",
    "        self.frame.pack(fill=BOTH,expand=1)\n",
    "        self.root.after(1, self.changeimage)\n",
    "        self.label.pack()\n",
    "        self.root.mainloop()\n",
    "          \n",
    "    def changeimage(self):\n",
    "        self.count+=1\n",
    "        if self.count > len(self.img_paths)-1:\n",
    "            self.root.quit()\n",
    "            return\n",
    "        self.image = ImageTk.PhotoImage(Image.open(self.path+self.img_paths[self.count]))\n",
    "        self.canvas.itemconfig(self.image_on_canvas, image=self.image)\n",
    "        self.root.after(100, self.changeimage)"
   ]
  },
  {
   "cell_type": "code",
   "execution_count": 3,
   "metadata": {},
   "outputs": [
    {
     "name": "stdout",
     "output_type": "stream",
     "text": [
      "75 119\n",
      "581 381\n"
     ]
    },
    {
     "ename": "KeyboardInterrupt",
     "evalue": "",
     "output_type": "error",
     "traceback": [
      "\u001b[0;31m---------------------------------------------------------------------------\u001b[0m",
      "\u001b[0;31mKeyboardInterrupt\u001b[0m                         Traceback (most recent call last)",
      "\u001b[0;32m<ipython-input-3-9b8d67221abf>\u001b[0m in \u001b[0;36m<module>\u001b[0;34m\u001b[0m\n\u001b[1;32m      1\u001b[0m \u001b[0mtask3\u001b[0m\u001b[0;34m=\u001b[0m\u001b[0mTask3\u001b[0m\u001b[0;34m(\u001b[0m\u001b[0mpath\u001b[0m\u001b[0;34m)\u001b[0m\u001b[0;34m\u001b[0m\u001b[0;34m\u001b[0m\u001b[0m\n\u001b[0;32m----> 2\u001b[0;31m \u001b[0mtask3\u001b[0m\u001b[0;34m.\u001b[0m\u001b[0mcheck\u001b[0m\u001b[0;34m(\u001b[0m\u001b[0;34m)\u001b[0m\u001b[0;34m\u001b[0m\u001b[0;34m\u001b[0m\u001b[0m\n\u001b[0m",
      "\u001b[0;32m<ipython-input-2-c23081212abe>\u001b[0m in \u001b[0;36mcheck\u001b[0;34m(self)\u001b[0m\n\u001b[1;32m     70\u001b[0m         \u001b[0mself\u001b[0m\u001b[0;34m.\u001b[0m\u001b[0mroot\u001b[0m\u001b[0;34m.\u001b[0m\u001b[0mafter\u001b[0m\u001b[0;34m(\u001b[0m\u001b[0;36m1\u001b[0m\u001b[0;34m,\u001b[0m \u001b[0mself\u001b[0m\u001b[0;34m.\u001b[0m\u001b[0mchangeimage\u001b[0m\u001b[0;34m)\u001b[0m\u001b[0;34m\u001b[0m\u001b[0;34m\u001b[0m\u001b[0m\n\u001b[1;32m     71\u001b[0m         \u001b[0mself\u001b[0m\u001b[0;34m.\u001b[0m\u001b[0mlabel\u001b[0m\u001b[0;34m.\u001b[0m\u001b[0mpack\u001b[0m\u001b[0;34m(\u001b[0m\u001b[0;34m)\u001b[0m\u001b[0;34m\u001b[0m\u001b[0;34m\u001b[0m\u001b[0m\n\u001b[0;32m---> 72\u001b[0;31m         \u001b[0mself\u001b[0m\u001b[0;34m.\u001b[0m\u001b[0mroot\u001b[0m\u001b[0;34m.\u001b[0m\u001b[0mmainloop\u001b[0m\u001b[0;34m(\u001b[0m\u001b[0;34m)\u001b[0m\u001b[0;34m\u001b[0m\u001b[0;34m\u001b[0m\u001b[0m\n\u001b[0m\u001b[1;32m     73\u001b[0m \u001b[0;34m\u001b[0m\u001b[0m\n\u001b[1;32m     74\u001b[0m     \u001b[0;32mdef\u001b[0m \u001b[0mchangeimage\u001b[0m\u001b[0;34m(\u001b[0m\u001b[0mself\u001b[0m\u001b[0;34m)\u001b[0m\u001b[0;34m:\u001b[0m\u001b[0;34m\u001b[0m\u001b[0;34m\u001b[0m\u001b[0m\n",
      "\u001b[0;32m~/opt/anaconda3/lib/python3.7/tkinter/__init__.py\u001b[0m in \u001b[0;36mmainloop\u001b[0;34m(self, n)\u001b[0m\n\u001b[1;32m   1281\u001b[0m     \u001b[0;32mdef\u001b[0m \u001b[0mmainloop\u001b[0m\u001b[0;34m(\u001b[0m\u001b[0mself\u001b[0m\u001b[0;34m,\u001b[0m \u001b[0mn\u001b[0m\u001b[0;34m=\u001b[0m\u001b[0;36m0\u001b[0m\u001b[0;34m)\u001b[0m\u001b[0;34m:\u001b[0m\u001b[0;34m\u001b[0m\u001b[0;34m\u001b[0m\u001b[0m\n\u001b[1;32m   1282\u001b[0m         \u001b[0;34m\"\"\"Call the mainloop of Tk.\"\"\"\u001b[0m\u001b[0;34m\u001b[0m\u001b[0;34m\u001b[0m\u001b[0m\n\u001b[0;32m-> 1283\u001b[0;31m         \u001b[0mself\u001b[0m\u001b[0;34m.\u001b[0m\u001b[0mtk\u001b[0m\u001b[0;34m.\u001b[0m\u001b[0mmainloop\u001b[0m\u001b[0;34m(\u001b[0m\u001b[0mn\u001b[0m\u001b[0;34m)\u001b[0m\u001b[0;34m\u001b[0m\u001b[0;34m\u001b[0m\u001b[0m\n\u001b[0m\u001b[1;32m   1284\u001b[0m     \u001b[0;32mdef\u001b[0m \u001b[0mquit\u001b[0m\u001b[0;34m(\u001b[0m\u001b[0mself\u001b[0m\u001b[0;34m)\u001b[0m\u001b[0;34m:\u001b[0m\u001b[0;34m\u001b[0m\u001b[0;34m\u001b[0m\u001b[0m\n\u001b[1;32m   1285\u001b[0m         \u001b[0;34m\"\"\"Quit the Tcl interpreter. All widgets will be destroyed.\"\"\"\u001b[0m\u001b[0;34m\u001b[0m\u001b[0;34m\u001b[0m\u001b[0m\n",
      "\u001b[0;31mKeyboardInterrupt\u001b[0m: "
     ]
    }
   ],
   "source": [
    "task3=Task3(path)\n",
    "task3.check()"
   ]
  }
 ],
 "metadata": {
  "kernelspec": {
   "display_name": "Python 3",
   "language": "python",
   "name": "python3"
  },
  "language_info": {
   "codemirror_mode": {
    "name": "ipython",
    "version": 3
   },
   "file_extension": ".py",
   "mimetype": "text/x-python",
   "name": "python",
   "nbconvert_exporter": "python",
   "pygments_lexer": "ipython3",
   "version": "3.7.6"
  }
 },
 "nbformat": 4,
 "nbformat_minor": 4
}
